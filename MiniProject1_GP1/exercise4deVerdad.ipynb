{
 "cells": [
  {
   "cell_type": "markdown",
   "metadata": {},
   "source": [
    "\\begin{equation}\n",
    "\\iint \\limits_{\\Omega} \\left(sin(\\pi x) \\cdot cos^2(\\pi y)\\right) d\\Omega,\n",
    "\\end{equation}"
   ]
  },
  {
   "cell_type": "code",
   "execution_count": 134,
   "metadata": {},
   "outputs": [],
   "source": [
    "import numpy as np\n",
    "import sympy as sym\n",
    "\n",
    "def gaussian_integration_2D(p0, p1, p2, p3, fun, nx, ny):\n",
    "    '''\n",
    "        - p0, p1, p2, p3:\n",
    "            Coordenadas de los punto (x,y) del cuadrilatero\n",
    "        \n",
    "        - fun:\n",
    "            Funcion lambda f(x,y) a interpolar\n",
    "            \n",
    "        - nx, ny:\n",
    "            Numero de puntos de cuadratura a utilizar en direccion\n",
    "            x, y respectivamente.\n",
    "    '''\n",
    "    xi, wi = np.polynomial.legendre.leggauss(nx)\n",
    "    yj, wj = np.polynomial.legendre.leggauss(ny)\n",
    "    \n",
    "    X = np.matrix([p0, p1, p2, p3])\n",
    "    \n",
    "    \n",
    "    Nt = lambda r,s : 0.25*np.array([(1-r)*(1-s),\n",
    "                                    (1+r)*(1-s),\n",
    "                                    (1+r)*(1+s),\n",
    "                                    (1-r)*(1+s)])\n",
    "    \n",
    "    Dt = lambda r,s : 0.25*np.array([[s-1, r-1],\n",
    "                                     [1-s, -1-r],\n",
    "                                     [1+s, 1+r],\n",
    "                                     [-1-s, 1-r]\n",
    "                                    ]).transpose()\n",
    "    integral = 0\n",
    "    for i in range(nx):\n",
    "        rx = xi[i]\n",
    "        wx = wi[i]\n",
    "        for j in range(ny):\n",
    "            sy = yj[j]\n",
    "            wy = wj[j]\n",
    "            \n",
    "            J = Dt(rx, sy)*X\n",
    "            det_J = np.linalg.det(J)\n",
    "            \n",
    "            x_vec = Nt(rx, sy)*X\n",
    "            f_val = fun(x_vec[0,0], x_vec[0,1])\n",
    "            # print(f_val)\n",
    "            integral += (f_val)*det_J*wx*wy\n",
    "            # print(i,j, Nt(rx, sy)*f_vec*det_J*wx*wy)\n",
    "            \n",
    "    return integral"
   ]
  },
  {
   "cell_type": "markdown",
   "metadata": {},
   "source": [
    "Nueva malla"
   ]
  },
  {
   "cell_type": "code",
   "execution_count": 137,
   "metadata": {},
   "outputs": [
    {
     "name": "stdout",
     "output_type": "stream",
     "text": [
      "1.2732396961373478\n"
     ]
    }
   ],
   "source": [
    "points = np.array([\n",
    "    [0,0], \n",
    "    [5,0],\n",
    "    [5,2],\n",
    "    [0,2],\n",
    "    ##\n",
    "    [2,2],\n",
    "    [7,2],\n",
    "    [7,4],\n",
    "    [2,4]\n",
    "], dtype='float32')\n",
    "\n",
    "rectangles = np.array([\n",
    "    [0,1,2,3],\n",
    "    [4,5,6,7],\n",
    "], dtype='int32')\n",
    "\n",
    "ps = []\n",
    "\n",
    "n = 20\n",
    "\n",
    "fun = lambda x, y: np.sin(np.pi*x)*np.cos(np.pi*y)**2\n",
    "\n",
    "for m in range(2):\n",
    "    nx = np.linspace(points[rectangles[m][0]][0], points[rectangles[m][1]][0], n+1)\n",
    "    ny = np.linspace(points[rectangles[m][0]][1], points[rectangles[m][2]][1], n+1)\n",
    "    for i in range(n+1):\n",
    "        for j in range(n+1):\n",
    "            ps.append([nx[j], ny[i]])\n",
    "\n",
    "rs = []\n",
    "\n",
    "for m in range(2):\n",
    "    for j in range(n):\n",
    "        for i in range(n):\n",
    "            n1 = (j*n + j + i) + m*(n+1)**2\n",
    "            n2 = n1 + 1\n",
    "            n3 = n2+n+1\n",
    "            n4 = n3-1\n",
    "            rs.append([n1, n2, n3, n4])\n",
    "        \n",
    "integral = 0\n",
    "\n",
    "nx = 3\n",
    "ny = 3\n",
    "        \n",
    "for i in range(len(rs)):\n",
    "    p0 = ps[rs[i][0]]\n",
    "    p1 = ps[rs[i][1]]\n",
    "    p2 = ps[rs[i][2]]\n",
    "    p3 = ps[rs[i][3]]\n",
    "\n",
    "    integral_num = gaussian_integration_2D(p0, p1, p2, p3, fun, nx, ny)\n",
    "    \n",
    "    integral += integral_num\n",
    "    \n",
    "print(integral)  \n",
    "    "
   ]
  }
 ],
 "metadata": {
  "kernelspec": {
   "display_name": "Python 3",
   "language": "python",
   "name": "python3"
  },
  "language_info": {
   "codemirror_mode": {
    "name": "ipython",
    "version": 3
   },
   "file_extension": ".py",
   "mimetype": "text/x-python",
   "name": "python",
   "nbconvert_exporter": "python",
   "pygments_lexer": "ipython3",
   "version": "3.11.4"
  }
 },
 "nbformat": 4,
 "nbformat_minor": 2
}
