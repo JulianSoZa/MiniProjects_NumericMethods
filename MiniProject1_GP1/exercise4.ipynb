{
 "cells": [
  {
   "cell_type": "markdown",
   "metadata": {},
   "source": [
    "EJEMPLO "
   ]
  },
  {
   "cell_type": "code",
   "execution_count": 3,
   "metadata": {},
   "outputs": [
    {
     "name": "stdout",
     "output_type": "stream",
     "text": [
      "Area del triangulo = 4.06201920231798\n"
     ]
    }
   ],
   "source": [
    "\n",
    "import numpy as np \n",
    "import meshio\n",
    "import math \n",
    "import trimesh \n",
    "import pyvista as pv\n",
    "\n",
    "A = np.array([-2, 0, 2])\n",
    "B = np.array([-5, 2, 0])\n",
    "C = np.array([6, -3, 7])\n",
    "\n",
    "AB = B-A\n",
    "AC = C-A\n",
    "cruz = np.cross(AB, AC)\n",
    "\n",
    "modulo =  math.sqrt(sum(pow(element, 2) for element in cruz))\n",
    "\n",
    "Area = (1/2) * modulo\n",
    "print('Area del triangulo =',Area)\n"
   ]
  },
  {
   "cell_type": "markdown",
   "metadata": {},
   "source": [
    "ARAÑA, PUNTOS, ELEMENTOS, FUNCION"
   ]
  },
  {
   "cell_type": "code",
   "execution_count": 4,
   "metadata": {},
   "outputs": [
    {
     "name": "stdout",
     "output_type": "stream",
     "text": [
      "Estructura de los puntos:\n",
      "Filas:  4670\n",
      "Columnas:  3\n",
      "\n",
      "Estructura de los elemntos:\n",
      "Filas:  9286\n",
      "Columnas:  3\n",
      "area =  28.222445842584698\n"
     ]
    }
   ],
   "source": [
    "spider = meshio.read(\"spider.vtk\")\n",
    "spider_tri = trimesh.load_mesh(\"spider.vtk\")\n",
    "\n",
    "points = spider.points              #COORDENADAS\n",
    "tris = spider.cells[0].data         #ELEMENTOS\n",
    "\n",
    "def Area_T(A, B, C):\n",
    "    AB = B - A\n",
    "    AC = C - A\n",
    "    cruz = np.cross(AB, AC)\n",
    "    modulo =  math.sqrt(sum(pow(element, 2) for element in cruz))\n",
    "    A = (1/2) * modulo\n",
    "    return A\n",
    "\n",
    "\n",
    "coordeadas = np.array(points)\n",
    "elementos = np.array(tris)\n",
    "\n",
    "print(\"Estructura de los puntos:\")\n",
    "print(\"Filas: \", coordeadas.shape[0] )\n",
    "print(\"Columnas: \", coordeadas.shape[1] )\n",
    "\n",
    "print(\"\\nEstructura de los elemntos:\")\n",
    "print(\"Filas: \", elementos.shape[0] )\n",
    "print(\"Columnas: \", elementos.shape[1] )\n",
    "\n",
    "A = spider_tri.area\n",
    "print(\"area = \", A )"
   ]
  },
  {
   "cell_type": "markdown",
   "metadata": {},
   "source": [
    "ARAÑA T_1"
   ]
  },
  {
   "cell_type": "code",
   "execution_count": 5,
   "metadata": {},
   "outputs": [
    {
     "name": "stdout",
     "output_type": "stream",
     "text": [
      "\n",
      "puntos del primer triangulo [0 1 2]\n",
      "area primer triangulo = 0.0003820215570547633\n"
     ]
    }
   ],
   "source": [
    "\n",
    "triangulo_1 = elementos[0]\n",
    "print(\"\\npuntos del primer triangulo\",triangulo_1)\n",
    "\n",
    "P1 = coordeadas[elementos[0][0]]\n",
    "P2 = coordeadas[elementos[0][1]]\n",
    "P3 = coordeadas[elementos[0][2]]\n",
    "\n",
    "print('area primer triangulo =', Area_T(P1, P2, P3))\n",
    "\n"
   ]
  },
  {
   "cell_type": "markdown",
   "metadata": {},
   "source": [
    "TODOS LOS TRIANGULOS"
   ]
  },
  {
   "cell_type": "code",
   "execution_count": 7,
   "metadata": {},
   "outputs": [
    {
     "ename": "",
     "evalue": "",
     "output_type": "error",
     "traceback": [
      "\u001b[1;31mThe Kernel crashed while executing code in the current cell or a previous cell. \n",
      "\u001b[1;31mPlease review the code in the cell(s) to identify a possible cause of the failure. \n",
      "\u001b[1;31mClick <a href='https://aka.ms/vscodeJupyterKernelCrash'>here</a> for more info. \n",
      "\u001b[1;31mView Jupyter <a href='command:jupyter.viewOutput'>log</a> for further details."
     ]
    }
   ],
   "source": [
    "\n",
    "areas = []\n",
    "for i in range(len(elementos)):\n",
    "    P1 = coordeadas[elementos[i][0]]\n",
    "    P2 = coordeadas[elementos[i][1]]\n",
    "    P3 = coordeadas[elementos[i][2]]\n",
    "    areas.append(Area_T(P1, P2, P3))\n",
    "As= sum(areas)\n",
    "print('Area superficial = {} unidades cuadradas'. format(As))\n",
    "\n",
    "graf = pv.PolyData(coordeadas, elementos)\n",
    "##graf.plot(show_edges=True)"
   ]
  }
 ],
 "metadata": {
  "kernelspec": {
   "display_name": "Python 3",
   "language": "python",
   "name": "python3"
  },
  "language_info": {
   "codemirror_mode": {
    "name": "ipython",
    "version": 3
   },
   "file_extension": ".py",
   "mimetype": "text/x-python",
   "name": "python",
   "nbconvert_exporter": "python",
   "pygments_lexer": "ipython3",
   "version": "3.12.2"
  }
 },
 "nbformat": 4,
 "nbformat_minor": 2
}
