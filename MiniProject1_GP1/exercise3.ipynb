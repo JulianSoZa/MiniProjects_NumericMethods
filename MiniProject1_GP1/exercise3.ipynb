{
 "cells": [
  {
   "cell_type": "markdown",
   "metadata": {},
   "source": [
    "$$\\int \\limits_{0}^{8}\\left(sin^2(\\pi x) + cos(x)\\right)dx"
   ]
  },
  {
   "cell_type": "code",
   "execution_count": 48,
   "metadata": {},
   "outputs": [
    {
     "name": "stdout",
     "output_type": "stream",
     "text": [
      "4.989262501968257\n",
      "4.989371946829353\n"
     ]
    }
   ],
   "source": [
    "import numpy as np\n",
    "import sympy as sym\n",
    "\n",
    "x = sym.Symbol('x')\n",
    "f = (sym.sin(sym.pi*x))**2 + sym.cos(x)\n",
    "\n",
    "n = 10\n",
    "xn = np.linspace(0, 8, n+1)\n",
    "\n",
    "puntos, wi = np.polynomial.legendre.leggauss(2)\n",
    "\n",
    "integral = 0\n",
    "\n",
    "for i in range(n):\n",
    "    xa = xn[i]\n",
    "    xb = xn[i+1]\n",
    "\n",
    "    m = (xb-xa)/2\n",
    "    b = m+xa\n",
    "\n",
    "    xi = m*puntos + b\n",
    "\n",
    "    yi = sym.lambdify(x, f)(xi)\n",
    "    area = (xb-xa)*sum(wi*yi)/2\n",
    "\n",
    "    integral = integral + area\n",
    "    \n",
    "print(integral)\n",
    "\n",
    "n = 20\n",
    "\n",
    "puntos, wi = np.polynomial.legendre.leggauss(n)\n",
    "\n",
    "xa = 0\n",
    "xb = 8\n",
    "\n",
    "m = (xb-xa)/2\n",
    "b = m+xa\n",
    "\n",
    "xi = m*puntos + b\n",
    "\n",
    "yi = sym.lambdify(x, f)(xi)\n",
    "integral = (xb-xa)*sum(wi*yi)/2\n",
    "    \n",
    "print(integral)"
   ]
  }
 ],
 "metadata": {
  "kernelspec": {
   "display_name": "Python 3",
   "language": "python",
   "name": "python3"
  },
  "language_info": {
   "codemirror_mode": {
    "name": "ipython",
    "version": 3
   },
   "file_extension": ".py",
   "mimetype": "text/x-python",
   "name": "python",
   "nbconvert_exporter": "python",
   "pygments_lexer": "ipython3",
   "version": "3.11.4"
  }
 },
 "nbformat": 4,
 "nbformat_minor": 2
}
