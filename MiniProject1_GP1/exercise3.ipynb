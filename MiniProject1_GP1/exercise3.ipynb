{
 "cells": [
  {
   "cell_type": "markdown",
   "metadata": {},
   "source": [
    "$$\\int \\limits_{0}^{8}\\left(sin^2(\\pi x) + cos(x)\\right)dx"
   ]
  },
  {
   "cell_type": "code",
   "execution_count": 24,
   "metadata": {},
   "outputs": [
    {
     "name": "stdout",
     "output_type": "stream",
     "text": [
      "x\n",
      "[-0.57735027  0.57735027] [1. 1.]\n",
      "4.0 4.0\n",
      "8.979052941534565\n"
     ]
    }
   ],
   "source": [
    "import numpy as np\n",
    "import sympy as sym\n",
    "\n",
    "x = sym.Symbol('x')\n",
    "f = (sym.sin(sym.pi*x))**2 + sym.cos(x)\n",
    "\n",
    "n = 10\n",
    "xn = np.linspace(0, 8, n)\n",
    "print(x)\n",
    "\n",
    "xa = 0\n",
    "xb = 8\n",
    "\n",
    "xi, wi = np.polynomial.legendre.leggauss(2)\n",
    "print(xi, wi)\n",
    "\n",
    "m = (xb-xa)/2\n",
    "b = m+xa\n",
    "\n",
    "print(m, b)\n",
    "\n",
    "xi = m*xi + b\n",
    "\n",
    "yi = sym.lambdify(x, f)(xi)\n",
    "area = 8*sum(wi*yi)/2\n",
    "\n",
    "print(area)"
   ]
  }
 ],
 "metadata": {
  "kernelspec": {
   "display_name": "Python 3",
   "language": "python",
   "name": "python3"
  },
  "language_info": {
   "codemirror_mode": {
    "name": "ipython",
    "version": 3
   },
   "file_extension": ".py",
   "mimetype": "text/x-python",
   "name": "python",
   "nbconvert_exporter": "python",
   "pygments_lexer": "ipython3",
   "version": "3.11.4"
  }
 },
 "nbformat": 4,
 "nbformat_minor": 2
}
