{
 "cells": [
  {
   "cell_type": "markdown",
   "metadata": {},
   "source": [
    "$$\\int \\limits_{0}^{8}\\left(sin^2(\\pi x) + cos(x)\\right)dx"
   ]
  },
  {
   "cell_type": "code",
   "execution_count": 27,
   "metadata": {},
   "outputs": [
    {
     "name": "stdout",
     "output_type": "stream",
     "text": [
      "Integral para una división del dominio en 10 segmentos con dos puntos de cuadratura: 4.989262501968257\n",
      "Integral para 20 puntos de cuadratura en todo el dominio: 4.989371946829353\n"
     ]
    }
   ],
   "source": [
    "import numpy as np\n",
    "import sympy as sym\n",
    "\n",
    "def numericalIntegration1D(xa, xb, f, n):\n",
    "    puntos, wi = np.polynomial.legendre.leggauss(n)\n",
    "    \n",
    "    m = (xb-xa)/2\n",
    "    xi = m*puntos + m+xa\n",
    "\n",
    "    yi = sym.lambdify(x, f)(xi)\n",
    "    area = (xb-xa)*sum(wi*yi)/2\n",
    "    return area\n",
    "\n",
    "x = sym.Symbol('x')\n",
    "f = (sym.sin(sym.pi*x))**2 + sym.cos(x)\n",
    "la = 0\n",
    "lb = 8\n",
    "\n",
    "n = 10\n",
    "xn = np.linspace(la, lb, n+1)\n",
    "\n",
    "integral = 0\n",
    "\n",
    "for i in range(n):\n",
    "    xa = xn[i]\n",
    "    xb = xn[i+1]\n",
    "\n",
    "    area = numericalIntegration1D(xa, xb, f, 2)\n",
    "    integral += area\n",
    "\n",
    "print(f\"Integral para una división del dominio en {n} segmentos con dos puntos de cuadratura: {integral}\")\n",
    "\n",
    "n = 20\n",
    "\n",
    "integral = numericalIntegration1D(la, lb, f, n)\n",
    "    \n",
    "print(f\"Integral para {n} puntos de cuadratura en todo el dominio: {integral}\")"
   ]
  }
 ],
 "metadata": {
  "kernelspec": {
   "display_name": "Python 3",
   "language": "python",
   "name": "python3"
  },
  "language_info": {
   "codemirror_mode": {
    "name": "ipython",
    "version": 3
   },
   "file_extension": ".py",
   "mimetype": "text/x-python",
   "name": "python",
   "nbconvert_exporter": "python",
   "pygments_lexer": "ipython3",
   "version": "3.11.4"
  }
 },
 "nbformat": 4,
 "nbformat_minor": 2
}
